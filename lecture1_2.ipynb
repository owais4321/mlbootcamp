{
  "nbformat": 4,
  "nbformat_minor": 0,
  "metadata": {
    "colab": {
      "provenance": []
    },
    "kernelspec": {
      "name": "python3",
      "display_name": "Python 3"
    },
    "language_info": {
      "name": "python"
    }
  },
  "cells": [
    {
      "cell_type": "code",
      "execution_count": null,
      "metadata": {
        "colab": {
          "base_uri": "https://localhost:8080/"
        },
        "id": "a9pzbKPeUGou",
        "outputId": "f1a3a6a0-8afb-4562-83a6-f05696224e2a"
      },
      "outputs": [
        {
          "output_type": "stream",
          "name": "stdout",
          "text": [
            "Hello world\n"
          ]
        }
      ],
      "source": [
        "print(\"Hello world\")"
      ]
    },
    {
      "cell_type": "code",
      "source": [
        "a = 10"
      ],
      "metadata": {
        "id": "jUm15RY4dwth"
      },
      "execution_count": null,
      "outputs": []
    },
    {
      "cell_type": "code",
      "source": [
        "print(a)"
      ],
      "metadata": {
        "colab": {
          "base_uri": "https://localhost:8080/"
        },
        "id": "h_46IobSd2F-",
        "outputId": "b34f6645-97fe-4836-e235-e8ec2e931bbe"
      },
      "execution_count": null,
      "outputs": [
        {
          "output_type": "stream",
          "name": "stdout",
          "text": [
            "10\n"
          ]
        }
      ]
    },
    {
      "cell_type": "code",
      "source": [
        "#Number\n",
        "a = 1 #int\n",
        "b = 34.5 #float\n",
        "c = 2 + 2j #complex\n",
        "print(a)\n",
        "print(b)\n",
        "print(c)"
      ],
      "metadata": {
        "colab": {
          "base_uri": "https://localhost:8080/"
        },
        "id": "mJAt2oYHfUM5",
        "outputId": "27f31f09-43b6-4ea1-e874-4a2292b1b4f7"
      },
      "execution_count": null,
      "outputs": [
        {
          "output_type": "stream",
          "name": "stdout",
          "text": [
            "1\n",
            "34.5\n",
            "(2+2j)\n"
          ]
        }
      ]
    },
    {
      "cell_type": "code",
      "source": [
        "#string\n",
        "myfvrtemovie = \"Forrest Gump\"\n",
        "myfvrtemovie = 'Forrest Gump'\n",
        "interestingstring = \"\"\"\n",
        "akhkahkha         khkahk      klkl\n",
        "laklkslk khkhk\n",
        "lk;lk;lk\n",
        "\"\"\"\n",
        "print(interestingstring)"
      ],
      "metadata": {
        "colab": {
          "base_uri": "https://localhost:8080/"
        },
        "id": "WFHRLCKTgPf2",
        "outputId": "5688c234-c15f-4059-d0b0-bff787b56250"
      },
      "execution_count": null,
      "outputs": [
        {
          "output_type": "stream",
          "name": "stdout",
          "text": [
            "\n",
            "akhkahkha         khkahk      klkl\n",
            "laklkslk khkhk\n",
            "lk;lk;lk\n",
            "\n"
          ]
        }
      ]
    },
    {
      "cell_type": "code",
      "source": [
        "#list\n",
        "tvseries = [\"Prison Break\",\"Breaking Bad\",\"Vikings\"]\n",
        "print(tvseries)"
      ],
      "metadata": {
        "colab": {
          "base_uri": "https://localhost:8080/"
        },
        "id": "fGehn-JghcQn",
        "outputId": "9a9bd77f-f40b-4832-ba40-8f753b3791e9"
      },
      "execution_count": null,
      "outputs": [
        {
          "output_type": "stream",
          "name": "stdout",
          "text": [
            "['Prison Break', 'Breaking Bad', 'Vikings']\n"
          ]
        }
      ]
    },
    {
      "cell_type": "code",
      "source": [
        "mixedItems = [\"Burgers\",\"Prison Break\",1,1.2,1+2j,[1,2,3]]\n",
        "print(mixedItems)"
      ],
      "metadata": {
        "colab": {
          "base_uri": "https://localhost:8080/"
        },
        "id": "j7_FQFvvixaB",
        "outputId": "3bf9a680-f519-4088-b9f5-08713cfdfb1a"
      },
      "execution_count": null,
      "outputs": [
        {
          "output_type": "stream",
          "name": "stdout",
          "text": [
            "['Burgers', 'Prison Break', 1, 1.2, (1+2j), [1, 2, 3]]\n"
          ]
        }
      ]
    },
    {
      "cell_type": "code",
      "source": [
        "#access Elements\n",
        "print(mixedItems[4])\n",
        "print(mixedItems[1])"
      ],
      "metadata": {
        "colab": {
          "base_uri": "https://localhost:8080/"
        },
        "id": "26gTRmCzjCMw",
        "outputId": "3f5ffe11-d5a6-4e75-c35e-155fd314a47a"
      },
      "execution_count": null,
      "outputs": [
        {
          "output_type": "stream",
          "name": "stdout",
          "text": [
            "(1+2j)\n",
            "Prison Break\n"
          ]
        }
      ]
    },
    {
      "cell_type": "code",
      "source": [
        "#tuples\n",
        "tp = (1,2,3,4)\n",
        "print(tp)"
      ],
      "metadata": {
        "id": "kClPBIoDjWeM",
        "colab": {
          "base_uri": "https://localhost:8080/"
        },
        "outputId": "b2f7d4aa-0f33-4f32-efcf-83c0ea8079dc"
      },
      "execution_count": null,
      "outputs": [
        {
          "output_type": "stream",
          "name": "stdout",
          "text": [
            "(1, 2, 3, 4)\n"
          ]
        }
      ]
    },
    {
      "cell_type": "code",
      "source": [
        "print(tp[1])"
      ],
      "metadata": {
        "colab": {
          "base_uri": "https://localhost:8080/"
        },
        "id": "07J9lUBtegNH",
        "outputId": "88b18a06-1930-4195-ad64-950b39622e65"
      },
      "execution_count": null,
      "outputs": [
        {
          "output_type": "stream",
          "name": "stdout",
          "text": [
            "2\n"
          ]
        }
      ]
    },
    {
      "cell_type": "code",
      "source": [
        "a,b,c,d = tp\n",
        "print(a)\n",
        "print(b)\n",
        "print(c)\n",
        "print(d)"
      ],
      "metadata": {
        "colab": {
          "base_uri": "https://localhost:8080/"
        },
        "id": "M87BC72EeoxF",
        "outputId": "9a009675-425c-424f-c1a9-5342ab974ced"
      },
      "execution_count": null,
      "outputs": [
        {
          "output_type": "stream",
          "name": "stdout",
          "text": [
            "1\n",
            "2\n",
            "3\n",
            "4\n"
          ]
        }
      ]
    },
    {
      "cell_type": "code",
      "source": [
        "#set\n",
        "st = {1,2,3,4,5}\n",
        "print(st)"
      ],
      "metadata": {
        "colab": {
          "base_uri": "https://localhost:8080/"
        },
        "id": "paHMn5JFez_0",
        "outputId": "506bf49e-1b7f-4930-cb78-5ecfb9bffed2"
      },
      "execution_count": null,
      "outputs": [
        {
          "output_type": "stream",
          "name": "stdout",
          "text": [
            "{1, 2, 3, 4, 5}\n"
          ]
        }
      ]
    },
    {
      "cell_type": "code",
      "source": [
        "#dictionary\n",
        "student = {\"Name\":\"Hans Zimmer\",\n",
        "           \"Dept\":\"Musicology\",\n",
        "           \"Batch\":90,\n",
        "           \"isPassOut\":True,\n",
        "           \"Grades\":[3,2.5,4,4,3.5,4,4,3],\n",
        "           \"Address\":{\"Street No\":35,\n",
        "                    \"City\":\"New York\",\n",
        "                    \"Postal code\":1123}}\n",
        "print(student)\n",
        "# print(student[\"Grades\"][7])\n",
        "# students = [{\"Name\":\"Hans Zimmer1\",\n",
        "#            \"Dept\":\"Musicology\",\n",
        "#            \"Batch\":90,\n",
        "#            \"isPassOut\":True,\n",
        "#            \"Grades\":[3,2.5,4,4,3.5,4,4,3]},\n",
        "#             {\"Name\":\"Hans Zimmer2\",\n",
        "#            \"Dept\":\"Musicology\",\n",
        "#            \"Batch\":90,\n",
        "#            \"isPassOut\":True,\n",
        "#            \"Grades\":[3,2.5,4,4,3.5,4,4,3]},\n",
        "#             {\"Name\":\"Hans Zimmer3\",\n",
        "#            \"Dept\":\"Musicology\",\n",
        "#            \"Batch\":90,\n",
        "#            \"isPassOut\":True,\n",
        "#            \"Grades\":[3,2.5,4,4,3.5,4,4,3]},\n",
        "#             {\"Name\":\"Hans Zimmer4\",\n",
        "#            \"Dept\":\"Musicology\",\n",
        "#            \"Batch\":90,\n",
        "#            \"isPassOut\":True,\n",
        "#            \"Grades\":[3,2.5,4,4,3.5,4,4,3]}]\n",
        "# print(students[2]['Name'])\n"
      ],
      "metadata": {
        "colab": {
          "base_uri": "https://localhost:8080/"
        },
        "id": "T9f8EDVafzav",
        "outputId": "39e38567-6ae8-45d6-ab5a-be96a1305d8e"
      },
      "execution_count": null,
      "outputs": [
        {
          "output_type": "stream",
          "name": "stdout",
          "text": [
            "{'Name': 'Hans Zimmer', 'Dept': 'Musicology', 'Batch': 90, 'isPassOut': True, 'Grades': [3, 2.5, 4, 4, 3.5, 4, 4, 3], 'Address': {'Street No': 35, 'City': 'New York', 'Postal code': 1123}}\n"
          ]
        }
      ]
    },
    {
      "cell_type": "code",
      "source": [
        "print(student['Address']['City'])"
      ],
      "metadata": {
        "colab": {
          "base_uri": "https://localhost:8080/"
        },
        "id": "4lVj_IOSf1CA",
        "outputId": "85ca707b-5016-4c73-c981-ebcd3cff086e"
      },
      "execution_count": null,
      "outputs": [
        {
          "output_type": "stream",
          "name": "stdout",
          "text": [
            "New York\n"
          ]
        }
      ]
    },
    {
      "cell_type": "code",
      "source": [
        "# arthemetic Operators\n",
        "num1 = 21\n",
        "num2 = 5\n",
        "add = num1 + num2 #(num1+num2) expression resolve into addition of two number 26\n",
        "sub = num1 - num2\n",
        "mul = num1 * num2\n",
        "div = num1 / num2\n",
        "fldiv = num1 // num2\n",
        "rem = num1 % num2\n",
        "print(add,sub,mul,div,fldiv,rem)"
      ],
      "metadata": {
        "colab": {
          "base_uri": "https://localhost:8080/"
        },
        "id": "q4DZ-80ZjpE5",
        "outputId": "5bc664ff-ccba-4ce8-ebb3-e4729e905e76"
      },
      "execution_count": null,
      "outputs": [
        {
          "output_type": "stream",
          "name": "stdout",
          "text": [
            "26 16 105 4.2 4 1\n"
          ]
        }
      ]
    },
    {
      "cell_type": "code",
      "source": [
        "num1 = 10\n",
        "num1 *= 7\n",
        "print(num1)"
      ],
      "metadata": {
        "colab": {
          "base_uri": "https://localhost:8080/"
        },
        "id": "ipIiMgiplexd",
        "outputId": "7f7bf831-9025-498f-b405-bc711823bb02"
      },
      "execution_count": null,
      "outputs": [
        {
          "output_type": "stream",
          "name": "stdout",
          "text": [
            "70\n"
          ]
        }
      ]
    },
    {
      "cell_type": "code",
      "source": [
        "# num3 = 18\n",
        "# num4 = 18\n",
        "# # condition = num3 > num4\n",
        "# print(num3>num4)\n",
        "# print(num3<num4)\n",
        "# print(num3<=num4)\n",
        "# print(num3>=num4)\n",
        "# print(num3==num4)\n",
        "# print(num3!=num4)\n",
        "# print(1 in [1,2,3,4,5])\n",
        "# print(5**5)"
      ],
      "metadata": {
        "colab": {
          "base_uri": "https://localhost:8080/"
        },
        "id": "c-91wEKbl56P",
        "outputId": "bd417e3f-54aa-4f32-abf7-0d284191faa9"
      },
      "execution_count": null,
      "outputs": [
        {
          "output_type": "stream",
          "name": "stdout",
          "text": [
            "3125\n"
          ]
        }
      ]
    },
    {
      "cell_type": "code",
      "source": [
        "# screen = 2\n",
        "# if(screen == 1):\n",
        "#   print(\"Screen 1\")\n",
        "#   print(\"inside if 1\")\n",
        "# if(screen == 2):\n",
        "#   print(\"screen 2\")\n",
        "#   print(\"inside if 2\")\n",
        "# else:\n",
        "#   print(\"Inside Else\")\n",
        "# if(True):\n",
        "#   print(\"inside if 1\")\n",
        "# if(True):\n",
        "#   print(\"inside if 2\")\n",
        "# else:\n",
        "#   print(\"Inside Else\")\n",
        "grades = 80\n",
        "if(grades >= 80):\n",
        "  print(\"A+\")\n",
        "elif (grades>=70):\n",
        "  print(\"A\")\n",
        "elif(grades>=60):\n",
        "  print(\"B\")\n",
        "elif(grades>50):\n",
        "  print(\"C\")\n",
        "else:\n",
        "  print(\"Fail\")"
      ],
      "metadata": {
        "colab": {
          "base_uri": "https://localhost:8080/"
        },
        "id": "Ctk-awmbnhW-",
        "outputId": "6adb18e3-412d-46e2-e970-c457a78c2df0"
      },
      "execution_count": null,
      "outputs": [
        {
          "output_type": "stream",
          "name": "stdout",
          "text": [
            "A+\n"
          ]
        }
      ]
    },
    {
      "cell_type": "code",
      "source": [],
      "metadata": {
        "id": "Hx56CqV6rZoh"
      },
      "execution_count": null,
      "outputs": []
    }
  ]
}